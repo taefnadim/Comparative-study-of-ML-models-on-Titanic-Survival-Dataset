{
  "nbformat": 4,
  "nbformat_minor": 0,
  "metadata": {
    "colab": {
      "provenance": []
    },
    "kernelspec": {
      "name": "python3",
      "display_name": "Python 3"
    },
    "language_info": {
      "name": "python"
    }
  },
  "cells": [
    {
      "cell_type": "code",
      "execution_count": 6,
      "metadata": {
        "id": "sN03SMN0Dhtl"
      },
      "outputs": [],
      "source": [
        "import numpy as np\n",
        "import pandas as pd\n",
        "import matplotlib.pyplot as plt\n",
        "from sklearn.preprocessing import StandardScaler\n",
        "from sklearn.linear_model import LogisticRegression\n",
        "from sklearn.model_selection import train_test_split\n",
        "from sklearn.svm import SVC\n",
        "from sklearn.naive_bayes import GaussianNB\n",
        "from sklearn.model_selection import GridSearchCV\n",
        "from sklearn.impute import SimpleImputer\n",
        "from sklearn.metrics import accuracy_score\n",
        "from sklearn.model_selection import cross_val_score\n",
        "import seaborn as sns\n",
        "imp = SimpleImputer(missing_values=np.nan, strategy='mean')\n",
        "train_data = pd.read_csv(\"train.csv\")\n",
        "#test_data = pd.read_csv(\"test.csv\")\n",
        "train_data, test_data = train_test_split(train_data, test_size=0.2)\n",
        "features = [\"Pclass\", \"Sex\", \"SibSp\", \"Parch\", \"Fare\"]\n",
        "#features = [\"Pclass\", \"Sex\", \"SibSp\", \"Parch\"]\n",
        "X = np.array(pd.get_dummies(train_data[features]))\n",
        "y = train_data[\"Survived\"]\n",
        "y_test= test_data[\"Survived\"]\n",
        "X_test = np.array(pd.get_dummies(test_data[features]))\n",
        "imp.fit(X)\n",
        "imp.fit(X_test)\n",
        "X=imp.transform(X)\n",
        "X_test=imp.transform(X_test)"
      ]
    },
    {
      "cell_type": "code",
      "source": [
        "scaler = StandardScaler()\n",
        "X=scaler.fit_transform(X)\n",
        "X_test=scaler.fit_transform(X_test)"
      ],
      "metadata": {
        "id": "87AXn86qx5ur"
      },
      "execution_count": 7,
      "outputs": []
    },
    {
      "cell_type": "markdown",
      "source": [
        "Support Vector Classifier"
      ],
      "metadata": {
        "id": "ROSI-0d6c4vj"
      }
    },
    {
      "cell_type": "code",
      "source": [
        "#Default hyperparameters of SVC()\n",
        "def svm(X,y):\n",
        "    svm=SVC()\n",
        "    svm.fit(X,y)\n",
        "    y_pred=svm.predict(X_test)\n",
        "    return y_pred"
      ],
      "metadata": {
        "id": "sss4XxlixkQG"
      },
      "execution_count": 8,
      "outputs": []
    },
    {
      "cell_type": "code",
      "source": [
        "y_pred=svm(X,y)\n",
        "y_pred"
      ],
      "metadata": {
        "colab": {
          "base_uri": "https://localhost:8080/"
        },
        "id": "BsUXD0ZPQJEm",
        "outputId": "09d8cfdd-0fb5-4394-fd46-b217e738a473"
      },
      "execution_count": 9,
      "outputs": [
        {
          "output_type": "execute_result",
          "data": {
            "text/plain": [
              "array([0, 0, 1, 1, 1, 0, 1, 0, 0, 0, 0, 0, 0, 0, 0, 0, 0, 0, 0, 0, 0, 0,\n",
              "       0, 1, 1, 0, 0, 0, 1, 0, 1, 0, 1, 1, 0, 0, 0, 0, 1, 0, 0, 1, 0, 0,\n",
              "       0, 1, 1, 0, 1, 0, 0, 0, 1, 0, 0, 1, 0, 0, 0, 0, 0, 1, 0, 0, 0, 0,\n",
              "       1, 0, 0, 1, 1, 1, 0, 0, 0, 1, 0, 1, 0, 0, 0, 0, 0, 1, 0, 1, 0, 1,\n",
              "       0, 1, 1, 0, 0, 0, 0, 1, 0, 1, 1, 0, 1, 0, 0, 0, 0, 0, 0, 0, 0, 0,\n",
              "       0, 0, 0, 0, 0, 0, 0, 0, 0, 0, 1, 1, 0, 0, 0, 0, 0, 0, 1, 0, 0, 0,\n",
              "       0, 0, 1, 0, 0, 1, 1, 1, 1, 1, 0, 1, 0, 1, 1, 0, 1, 0, 0, 0, 0, 0,\n",
              "       0, 1, 1, 0, 0, 1, 1, 0, 1, 1, 0, 0, 0, 0, 0, 0, 0, 1, 1, 0, 1, 1,\n",
              "       0, 0, 0])"
            ]
          },
          "metadata": {},
          "execution_count": 9
        }
      ]
    },
    {
      "cell_type": "code",
      "source": [
        "accuracy = accuracy_score(y_test, y_pred)\n",
        "print(accuracy)"
      ],
      "metadata": {
        "colab": {
          "base_uri": "https://localhost:8080/"
        },
        "id": "VW31vC02cd6j",
        "outputId": "ac969473-f615-4218-d47e-9a1a6a7187ab"
      },
      "execution_count": 10,
      "outputs": [
        {
          "output_type": "stream",
          "name": "stdout",
          "text": [
            "0.8324022346368715\n"
          ]
        }
      ]
    },
    {
      "cell_type": "code",
      "source": [
        "#Hyperparameter tuning using GridsearchCV\n",
        "param_grid = {'C': [0.1,1, 10, 100], 'gamma': ['auto', 'scale'],'kernel': ['linear','rbf', 'poly', 'sigmoid']}\n",
        "grid = GridSearchCV(SVC(),param_grid,refit=True,verbose=2)\n",
        "grid.fit(X,y)\n",
        "print(grid.best_estimator_)"
      ],
      "metadata": {
        "id": "ULrHKXLxANpA",
        "colab": {
          "base_uri": "https://localhost:8080/"
        },
        "outputId": "a0dcd3b1-2fea-4b53-c8cf-6e05bfbc1a9e"
      },
      "execution_count": 11,
      "outputs": [
        {
          "output_type": "stream",
          "name": "stdout",
          "text": [
            "Fitting 5 folds for each of 32 candidates, totalling 160 fits\n",
            "[CV] END ...................C=0.1, gamma=auto, kernel=linear; total time=   0.1s\n",
            "[CV] END ...................C=0.1, gamma=auto, kernel=linear; total time=   0.0s\n",
            "[CV] END ...................C=0.1, gamma=auto, kernel=linear; total time=   0.0s\n",
            "[CV] END ...................C=0.1, gamma=auto, kernel=linear; total time=   0.0s\n",
            "[CV] END ...................C=0.1, gamma=auto, kernel=linear; total time=   0.0s\n",
            "[CV] END ......................C=0.1, gamma=auto, kernel=rbf; total time=   0.0s\n",
            "[CV] END ......................C=0.1, gamma=auto, kernel=rbf; total time=   0.0s\n",
            "[CV] END ......................C=0.1, gamma=auto, kernel=rbf; total time=   0.0s\n",
            "[CV] END ......................C=0.1, gamma=auto, kernel=rbf; total time=   0.0s\n",
            "[CV] END ......................C=0.1, gamma=auto, kernel=rbf; total time=   0.0s\n",
            "[CV] END .....................C=0.1, gamma=auto, kernel=poly; total time=   0.0s\n",
            "[CV] END .....................C=0.1, gamma=auto, kernel=poly; total time=   0.0s\n",
            "[CV] END .....................C=0.1, gamma=auto, kernel=poly; total time=   0.0s\n",
            "[CV] END .....................C=0.1, gamma=auto, kernel=poly; total time=   0.0s\n",
            "[CV] END .....................C=0.1, gamma=auto, kernel=poly; total time=   0.0s\n",
            "[CV] END ..................C=0.1, gamma=auto, kernel=sigmoid; total time=   0.1s\n",
            "[CV] END ..................C=0.1, gamma=auto, kernel=sigmoid; total time=   0.1s\n",
            "[CV] END ..................C=0.1, gamma=auto, kernel=sigmoid; total time=   0.1s\n",
            "[CV] END ..................C=0.1, gamma=auto, kernel=sigmoid; total time=   0.1s\n",
            "[CV] END ..................C=0.1, gamma=auto, kernel=sigmoid; total time=   0.1s\n",
            "[CV] END ..................C=0.1, gamma=scale, kernel=linear; total time=   0.0s\n",
            "[CV] END ..................C=0.1, gamma=scale, kernel=linear; total time=   0.0s\n",
            "[CV] END ..................C=0.1, gamma=scale, kernel=linear; total time=   0.0s\n",
            "[CV] END ..................C=0.1, gamma=scale, kernel=linear; total time=   0.0s\n",
            "[CV] END ..................C=0.1, gamma=scale, kernel=linear; total time=   0.0s\n",
            "[CV] END .....................C=0.1, gamma=scale, kernel=rbf; total time=   0.1s\n",
            "[CV] END .....................C=0.1, gamma=scale, kernel=rbf; total time=   0.1s\n",
            "[CV] END .....................C=0.1, gamma=scale, kernel=rbf; total time=   0.1s\n",
            "[CV] END .....................C=0.1, gamma=scale, kernel=rbf; total time=   0.1s\n",
            "[CV] END .....................C=0.1, gamma=scale, kernel=rbf; total time=   0.1s\n",
            "[CV] END ....................C=0.1, gamma=scale, kernel=poly; total time=   0.1s\n",
            "[CV] END ....................C=0.1, gamma=scale, kernel=poly; total time=   0.1s\n",
            "[CV] END ....................C=0.1, gamma=scale, kernel=poly; total time=   0.1s\n",
            "[CV] END ....................C=0.1, gamma=scale, kernel=poly; total time=   0.1s\n",
            "[CV] END ....................C=0.1, gamma=scale, kernel=poly; total time=   0.1s\n",
            "[CV] END .................C=0.1, gamma=scale, kernel=sigmoid; total time=   0.1s\n",
            "[CV] END .................C=0.1, gamma=scale, kernel=sigmoid; total time=   0.1s\n",
            "[CV] END .................C=0.1, gamma=scale, kernel=sigmoid; total time=   0.1s\n",
            "[CV] END .................C=0.1, gamma=scale, kernel=sigmoid; total time=   0.1s\n",
            "[CV] END .................C=0.1, gamma=scale, kernel=sigmoid; total time=   0.0s\n",
            "[CV] END .....................C=1, gamma=auto, kernel=linear; total time=   0.0s\n",
            "[CV] END .....................C=1, gamma=auto, kernel=linear; total time=   0.0s\n",
            "[CV] END .....................C=1, gamma=auto, kernel=linear; total time=   0.0s\n",
            "[CV] END .....................C=1, gamma=auto, kernel=linear; total time=   0.1s\n",
            "[CV] END .....................C=1, gamma=auto, kernel=linear; total time=   0.1s\n",
            "[CV] END ........................C=1, gamma=auto, kernel=rbf; total time=   0.1s\n",
            "[CV] END ........................C=1, gamma=auto, kernel=rbf; total time=   0.0s\n",
            "[CV] END ........................C=1, gamma=auto, kernel=rbf; total time=   0.0s\n",
            "[CV] END ........................C=1, gamma=auto, kernel=rbf; total time=   0.0s\n",
            "[CV] END ........................C=1, gamma=auto, kernel=rbf; total time=   0.0s\n",
            "[CV] END .......................C=1, gamma=auto, kernel=poly; total time=   0.1s\n",
            "[CV] END .......................C=1, gamma=auto, kernel=poly; total time=   0.1s\n",
            "[CV] END .......................C=1, gamma=auto, kernel=poly; total time=   0.1s\n",
            "[CV] END .......................C=1, gamma=auto, kernel=poly; total time=   0.1s\n",
            "[CV] END .......................C=1, gamma=auto, kernel=poly; total time=   0.1s\n",
            "[CV] END ....................C=1, gamma=auto, kernel=sigmoid; total time=   0.0s\n",
            "[CV] END ....................C=1, gamma=auto, kernel=sigmoid; total time=   0.0s\n",
            "[CV] END ....................C=1, gamma=auto, kernel=sigmoid; total time=   0.0s\n",
            "[CV] END ....................C=1, gamma=auto, kernel=sigmoid; total time=   0.0s\n",
            "[CV] END ....................C=1, gamma=auto, kernel=sigmoid; total time=   0.0s\n",
            "[CV] END ....................C=1, gamma=scale, kernel=linear; total time=   0.0s\n",
            "[CV] END ....................C=1, gamma=scale, kernel=linear; total time=   0.0s\n",
            "[CV] END ....................C=1, gamma=scale, kernel=linear; total time=   0.0s\n",
            "[CV] END ....................C=1, gamma=scale, kernel=linear; total time=   0.0s\n",
            "[CV] END ....................C=1, gamma=scale, kernel=linear; total time=   0.0s\n",
            "[CV] END .......................C=1, gamma=scale, kernel=rbf; total time=   0.0s\n",
            "[CV] END .......................C=1, gamma=scale, kernel=rbf; total time=   0.0s\n",
            "[CV] END .......................C=1, gamma=scale, kernel=rbf; total time=   0.0s\n",
            "[CV] END .......................C=1, gamma=scale, kernel=rbf; total time=   0.0s\n",
            "[CV] END .......................C=1, gamma=scale, kernel=rbf; total time=   0.0s\n",
            "[CV] END ......................C=1, gamma=scale, kernel=poly; total time=   0.1s\n",
            "[CV] END ......................C=1, gamma=scale, kernel=poly; total time=   0.0s\n",
            "[CV] END ......................C=1, gamma=scale, kernel=poly; total time=   0.1s\n",
            "[CV] END ......................C=1, gamma=scale, kernel=poly; total time=   0.0s\n",
            "[CV] END ......................C=1, gamma=scale, kernel=poly; total time=   0.0s\n",
            "[CV] END ...................C=1, gamma=scale, kernel=sigmoid; total time=   0.1s\n",
            "[CV] END ...................C=1, gamma=scale, kernel=sigmoid; total time=   0.1s\n",
            "[CV] END ...................C=1, gamma=scale, kernel=sigmoid; total time=   0.0s\n",
            "[CV] END ...................C=1, gamma=scale, kernel=sigmoid; total time=   0.0s\n",
            "[CV] END ...................C=1, gamma=scale, kernel=sigmoid; total time=   0.0s\n",
            "[CV] END ....................C=10, gamma=auto, kernel=linear; total time=   0.0s\n",
            "[CV] END ....................C=10, gamma=auto, kernel=linear; total time=   0.0s\n",
            "[CV] END ....................C=10, gamma=auto, kernel=linear; total time=   0.0s\n",
            "[CV] END ....................C=10, gamma=auto, kernel=linear; total time=   0.0s\n",
            "[CV] END ....................C=10, gamma=auto, kernel=linear; total time=   0.0s\n",
            "[CV] END .......................C=10, gamma=auto, kernel=rbf; total time=   0.1s\n",
            "[CV] END .......................C=10, gamma=auto, kernel=rbf; total time=   0.1s\n",
            "[CV] END .......................C=10, gamma=auto, kernel=rbf; total time=   0.0s\n",
            "[CV] END .......................C=10, gamma=auto, kernel=rbf; total time=   0.0s\n",
            "[CV] END .......................C=10, gamma=auto, kernel=rbf; total time=   0.0s\n",
            "[CV] END ......................C=10, gamma=auto, kernel=poly; total time=   0.2s\n",
            "[CV] END ......................C=10, gamma=auto, kernel=poly; total time=   0.1s\n",
            "[CV] END ......................C=10, gamma=auto, kernel=poly; total time=   0.1s\n",
            "[CV] END ......................C=10, gamma=auto, kernel=poly; total time=   0.2s\n",
            "[CV] END ......................C=10, gamma=auto, kernel=poly; total time=   0.1s\n",
            "[CV] END ...................C=10, gamma=auto, kernel=sigmoid; total time=   0.1s\n",
            "[CV] END ...................C=10, gamma=auto, kernel=sigmoid; total time=   0.1s\n",
            "[CV] END ...................C=10, gamma=auto, kernel=sigmoid; total time=   0.1s\n",
            "[CV] END ...................C=10, gamma=auto, kernel=sigmoid; total time=   0.1s\n",
            "[CV] END ...................C=10, gamma=auto, kernel=sigmoid; total time=   0.1s\n",
            "[CV] END ...................C=10, gamma=scale, kernel=linear; total time=   0.0s\n",
            "[CV] END ...................C=10, gamma=scale, kernel=linear; total time=   0.0s\n",
            "[CV] END ...................C=10, gamma=scale, kernel=linear; total time=   0.0s\n",
            "[CV] END ...................C=10, gamma=scale, kernel=linear; total time=   0.1s\n",
            "[CV] END ...................C=10, gamma=scale, kernel=linear; total time=   0.1s\n",
            "[CV] END ......................C=10, gamma=scale, kernel=rbf; total time=   0.1s\n",
            "[CV] END ......................C=10, gamma=scale, kernel=rbf; total time=   0.1s\n",
            "[CV] END ......................C=10, gamma=scale, kernel=rbf; total time=   0.1s\n",
            "[CV] END ......................C=10, gamma=scale, kernel=rbf; total time=   0.1s\n",
            "[CV] END ......................C=10, gamma=scale, kernel=rbf; total time=   0.1s\n",
            "[CV] END .....................C=10, gamma=scale, kernel=poly; total time=   0.3s\n",
            "[CV] END .....................C=10, gamma=scale, kernel=poly; total time=   0.2s\n",
            "[CV] END .....................C=10, gamma=scale, kernel=poly; total time=   0.1s\n",
            "[CV] END .....................C=10, gamma=scale, kernel=poly; total time=   0.1s\n",
            "[CV] END .....................C=10, gamma=scale, kernel=poly; total time=   0.1s\n",
            "[CV] END ..................C=10, gamma=scale, kernel=sigmoid; total time=   0.1s\n",
            "[CV] END ..................C=10, gamma=scale, kernel=sigmoid; total time=   0.1s\n",
            "[CV] END ..................C=10, gamma=scale, kernel=sigmoid; total time=   0.1s\n",
            "[CV] END ..................C=10, gamma=scale, kernel=sigmoid; total time=   0.0s\n",
            "[CV] END ..................C=10, gamma=scale, kernel=sigmoid; total time=   0.1s\n",
            "[CV] END ...................C=100, gamma=auto, kernel=linear; total time=   0.3s\n",
            "[CV] END ...................C=100, gamma=auto, kernel=linear; total time=   2.7s\n",
            "[CV] END ...................C=100, gamma=auto, kernel=linear; total time=   1.9s\n",
            "[CV] END ...................C=100, gamma=auto, kernel=linear; total time=   0.2s\n",
            "[CV] END ...................C=100, gamma=auto, kernel=linear; total time=   0.2s\n",
            "[CV] END ......................C=100, gamma=auto, kernel=rbf; total time=   0.0s\n",
            "[CV] END ......................C=100, gamma=auto, kernel=rbf; total time=   0.0s\n",
            "[CV] END ......................C=100, gamma=auto, kernel=rbf; total time=   0.0s\n",
            "[CV] END ......................C=100, gamma=auto, kernel=rbf; total time=   0.0s\n",
            "[CV] END ......................C=100, gamma=auto, kernel=rbf; total time=   0.0s\n",
            "[CV] END .....................C=100, gamma=auto, kernel=poly; total time=   0.2s\n",
            "[CV] END .....................C=100, gamma=auto, kernel=poly; total time=   0.4s\n",
            "[CV] END .....................C=100, gamma=auto, kernel=poly; total time=   0.2s\n",
            "[CV] END .....................C=100, gamma=auto, kernel=poly; total time=   0.1s\n",
            "[CV] END .....................C=100, gamma=auto, kernel=poly; total time=   0.2s\n",
            "[CV] END ..................C=100, gamma=auto, kernel=sigmoid; total time=   0.0s\n",
            "[CV] END ..................C=100, gamma=auto, kernel=sigmoid; total time=   0.0s\n",
            "[CV] END ..................C=100, gamma=auto, kernel=sigmoid; total time=   0.0s\n",
            "[CV] END ..................C=100, gamma=auto, kernel=sigmoid; total time=   0.0s\n",
            "[CV] END ..................C=100, gamma=auto, kernel=sigmoid; total time=   0.0s\n",
            "[CV] END ..................C=100, gamma=scale, kernel=linear; total time=   0.1s\n",
            "[CV] END ..................C=100, gamma=scale, kernel=linear; total time=   0.8s\n",
            "[CV] END ..................C=100, gamma=scale, kernel=linear; total time=   0.6s\n",
            "[CV] END ..................C=100, gamma=scale, kernel=linear; total time=   0.2s\n",
            "[CV] END ..................C=100, gamma=scale, kernel=linear; total time=   0.2s\n",
            "[CV] END .....................C=100, gamma=scale, kernel=rbf; total time=   0.0s\n",
            "[CV] END .....................C=100, gamma=scale, kernel=rbf; total time=   0.0s\n",
            "[CV] END .....................C=100, gamma=scale, kernel=rbf; total time=   0.0s\n",
            "[CV] END .....................C=100, gamma=scale, kernel=rbf; total time=   0.0s\n",
            "[CV] END .....................C=100, gamma=scale, kernel=rbf; total time=   0.0s\n",
            "[CV] END ....................C=100, gamma=scale, kernel=poly; total time=   0.2s\n",
            "[CV] END ....................C=100, gamma=scale, kernel=poly; total time=   0.5s\n",
            "[CV] END ....................C=100, gamma=scale, kernel=poly; total time=   0.3s\n",
            "[CV] END ....................C=100, gamma=scale, kernel=poly; total time=   0.2s\n",
            "[CV] END ....................C=100, gamma=scale, kernel=poly; total time=   0.1s\n",
            "[CV] END .................C=100, gamma=scale, kernel=sigmoid; total time=   0.0s\n",
            "[CV] END .................C=100, gamma=scale, kernel=sigmoid; total time=   0.0s\n",
            "[CV] END .................C=100, gamma=scale, kernel=sigmoid; total time=   0.0s\n",
            "[CV] END .................C=100, gamma=scale, kernel=sigmoid; total time=   0.0s\n",
            "[CV] END .................C=100, gamma=scale, kernel=sigmoid; total time=   0.0s\n",
            "SVC(C=0.1, gamma='auto')\n"
          ]
        }
      ]
    },
    {
      "cell_type": "code",
      "source": [
        "#Using the best estimator of GridSearchCV\n",
        "def svm(X,y):\n",
        "    svm=SVC(C=0.1, kernel='rbf', gamma='auto')\n",
        "    svm.fit(X,y)\n",
        "    y_pred=svm.predict(X_test)\n",
        "    return y_pred\n",
        "y_pred=svm(X,y)\n",
        "y_pred\n"
      ],
      "metadata": {
        "id": "KK-s42LMzBOu",
        "colab": {
          "base_uri": "https://localhost:8080/"
        },
        "outputId": "8bf0e222-118a-440d-eab4-186728fda215"
      },
      "execution_count": 12,
      "outputs": [
        {
          "output_type": "execute_result",
          "data": {
            "text/plain": [
              "array([0, 0, 1, 1, 1, 0, 0, 0, 0, 0, 0, 0, 0, 0, 0, 0, 0, 0, 0, 0, 0, 0,\n",
              "       0, 1, 0, 0, 0, 0, 1, 0, 1, 0, 1, 1, 0, 0, 0, 0, 1, 0, 0, 1, 0, 0,\n",
              "       0, 1, 1, 0, 1, 0, 0, 0, 1, 0, 0, 1, 0, 0, 0, 0, 0, 1, 0, 0, 0, 0,\n",
              "       1, 0, 0, 1, 1, 1, 0, 0, 0, 1, 0, 1, 0, 0, 0, 0, 0, 1, 0, 0, 0, 1,\n",
              "       0, 1, 1, 0, 0, 0, 0, 1, 0, 1, 1, 0, 1, 0, 0, 0, 0, 0, 0, 0, 0, 0,\n",
              "       0, 0, 0, 0, 0, 0, 0, 0, 0, 0, 1, 1, 0, 0, 0, 0, 0, 0, 1, 0, 0, 0,\n",
              "       0, 0, 1, 0, 0, 1, 1, 1, 1, 1, 0, 1, 0, 1, 1, 0, 1, 0, 0, 0, 0, 0,\n",
              "       0, 1, 1, 0, 0, 1, 1, 0, 1, 1, 0, 0, 0, 0, 0, 0, 1, 1, 1, 0, 1, 1,\n",
              "       0, 0, 0])"
            ]
          },
          "metadata": {},
          "execution_count": 12
        }
      ]
    },
    {
      "cell_type": "code",
      "source": [
        "accuracy = accuracy_score(y_test, y_pred)\n",
        "print(accuracy)"
      ],
      "metadata": {
        "colab": {
          "base_uri": "https://localhost:8080/"
        },
        "id": "hTYxhKw95pjP",
        "outputId": "f0d9a922-989d-45d5-d0a4-53e5be2d9ba6"
      },
      "execution_count": 13,
      "outputs": [
        {
          "output_type": "stream",
          "name": "stdout",
          "text": [
            "0.8212290502793296\n"
          ]
        }
      ]
    },
    {
      "cell_type": "code",
      "source": [
        "#Manual hyperparameter tuning\n",
        "kernels = ['Polynomial', 'RBF', 'Sigmoid','Linear']#A function which returns the corresponding SVC model\n",
        "def getClassifier(ktype):\n",
        "    if ktype == 0:\n",
        "        # Polynomial kernal\n",
        "        return SVC(kernel='poly', gamma=\"auto\")\n",
        "    elif ktype == 1:\n",
        "        # Radial Basis Function kernal\n",
        "        return SVC(kernel='rbf', gamma=\"auto\")\n",
        "    elif ktype == 2:\n",
        "        # Sigmoid kernal\n",
        "        return SVC(kernel='sigmoid', gamma=\"auto\")\n",
        "    elif ktype == 3:\n",
        "        # Linear kernal\n",
        "        return SVC(kernel='linear', gamma=\"auto\")"
      ],
      "metadata": {
        "id": "DlJ9eJnY-LON"
      },
      "execution_count": 15,
      "outputs": []
    },
    {
      "cell_type": "code",
      "source": [
        "accuracy_list=[]\n",
        "for i in range(4):\n",
        "    svclassifier = getClassifier(i)\n",
        "    svclassifier.fit(X, y)\n",
        "    y_pred = svclassifier.predict(X_test)\n",
        "    print(\"Evaluation:\", kernels[i], \"kernel\")\n",
        "    accuracy = accuracy_score(y_test, y_pred)\n",
        "    accuracy_list.append(accuracy)\n",
        "    print(accuracy)\n",
        "    #print(classification_report(y_test,y_pred))\n",
        "#plt.plot(accuracy_list)"
      ],
      "metadata": {
        "colab": {
          "base_uri": "https://localhost:8080/"
        },
        "id": "aRzJkiX_-aZE",
        "outputId": "c2b96220-33c7-496f-c306-b4fa5b8f88c5"
      },
      "execution_count": 16,
      "outputs": [
        {
          "output_type": "stream",
          "name": "stdout",
          "text": [
            "Evaluation: Polynomial kernel\n",
            "0.8044692737430168\n",
            "Evaluation: RBF kernel\n",
            "0.8324022346368715\n",
            "Evaluation: Sigmoid kernel\n",
            "0.6927374301675978\n",
            "Evaluation: Linear kernel\n",
            "0.7877094972067039\n"
          ]
        }
      ]
    },
    {
      "cell_type": "code",
      "source": [
        "accuracy_scores=(0.8212290502793296,0.8324022346368715, 0.7653631284916201, 0.7821229050279329)\n",
        "sns.set(style=\"whitegrid\")\n",
        "plt.figure(figsize=(8, 6))\n",
        "sns.boxplot(data=accuracy_scores)\n",
        "plt.title('Accuracy Box Plot for different kernels in SVM')\n",
        "plt.xlabel('Kernels')\n",
        "plt.ylabel('Accuracy')\n",
        "plt.show()"
      ],
      "metadata": {
        "colab": {
          "base_uri": "https://localhost:8080/",
          "height": 573
        },
        "id": "eojX9HO7Yj3n",
        "outputId": "f4b2f68b-6385-446b-afd5-e4b14c773bff"
      },
      "execution_count": 19,
      "outputs": [
        {
          "output_type": "display_data",
          "data": {
            "text/plain": [
              "<Figure size 800x600 with 1 Axes>"
            ],
            "image/png": "[encoded data removed]"
          },
          "metadata": {}
        }
      ]
    },
    {
      "cell_type": "markdown",
      "source": [
        "Logistic Regression"
      ],
      "metadata": {
        "id": "lNCsct9gu0ew"
      }
    },
    {
      "cell_type": "code",
      "source": [
        "def logistic(X,y):\n",
        "    lgr=LogisticRegression()\n",
        "    lgr.fit(X,y)\n",
        "    y_pred=lgr.predict(X_test)\n",
        "    return y_pred"
      ],
      "metadata": {
        "id": "y5asq45jQ2R1"
      },
      "execution_count": null,
      "outputs": []
    },
    {
      "cell_type": "code",
      "source": [
        "#Default Hyperparameters\n",
        "y_pred=logistic(X,y)\n",
        "y_pred"
      ],
      "metadata": {
        "colab": {
          "base_uri": "https://localhost:8080/"
        },
        "id": "dI_EU4j3IYff",
        "outputId": "c815ea8d-6b0a-438b-ac28-d7e749891e0c"
      },
      "execution_count": null,
      "outputs": [
        {
          "output_type": "execute_result",
          "data": {
            "text/plain": [
              "array([0, 0, 0, 1, 1, 0, 0, 1, 1, 0, 1, 1, 0, 0, 0, 1, 0, 0, 0, 1, 1, 0,\n",
              "       0, 1, 1, 0, 0, 0, 0, 0, 0, 1, 1, 1, 1, 1, 1, 0, 1, 0, 0, 1, 0, 0,\n",
              "       1, 0, 1, 1, 0, 0, 1, 0, 0, 0, 0, 0, 0, 0, 1, 0, 1, 0, 1, 0, 1, 0,\n",
              "       0, 0, 1, 1, 0, 0, 0, 1, 0, 0, 1, 0, 0, 0, 0, 1, 0, 0, 1, 0, 0, 1,\n",
              "       0, 0, 1, 1, 0, 1, 1, 1, 0, 0, 1, 0, 1, 1, 0, 0, 1, 0, 0, 0, 1, 0,\n",
              "       0, 1, 0, 1, 1, 1, 0, 0, 1, 0, 1, 0, 1, 0, 0, 1, 0, 0, 0, 0, 0, 0,\n",
              "       1, 0, 1, 0, 0, 0, 0, 0, 0, 1, 0, 0, 0, 0, 0, 1, 1, 0, 0, 0, 0, 0,\n",
              "       0, 0, 0, 0, 0, 0, 1, 0, 1, 0, 1, 0, 0, 0, 0, 0, 0, 1, 0, 1, 0, 0,\n",
              "       1, 1, 0])"
            ]
          },
          "metadata": {},
          "execution_count": 13
        }
      ]
    },
    {
      "cell_type": "code",
      "source": [
        "accuracy = accuracy_score(y_test, y_pred)\n",
        "print(accuracy)"
      ],
      "metadata": {
        "colab": {
          "base_uri": "https://localhost:8080/"
        },
        "id": "6CpOhyuNdywf",
        "outputId": "d23f32db-185c-48b5-9a0b-676d8ead719c"
      },
      "execution_count": null,
      "outputs": [
        {
          "output_type": "stream",
          "name": "stdout",
          "text": [
            "0.8100558659217877\n"
          ]
        }
      ]
    },
    {
      "cell_type": "code",
      "source": [
        "#Manual Hyperparameter Tuning\n",
        "solvers = ['lbfgs', 'liblinear', 'newton-cg', 'newton-cholesky', 'sag', 'saga']\n",
        "def getClassifier(k):\n",
        "    if k == 0:\n",
        "        return LogisticRegression(solver='lbfgs', penalty=\"l2\")\n",
        "    elif k == 1:\n",
        "        return LogisticRegression(solver='liblinear', penalty=\"l1\")\n",
        "    elif k == 2:\n",
        "        return LogisticRegression(solver='newton-cg', penalty=\"l2\")\n",
        "    elif k == 3:\n",
        "        return LogisticRegression(solver='newton-cholesky', penalty=\"l2\", max_iter=3000)\n",
        "    elif k == 4:\n",
        "        return LogisticRegression(solver='sag', penalty=\"l2\", max_iter=4000)\n",
        "    elif k == 5:\n",
        "        return LogisticRegression(solver='saga', penalty=\"l2\", max_iter=6000)"
      ],
      "metadata": {
        "id": "0bvayqbGDfDN"
      },
      "execution_count": null,
      "outputs": []
    },
    {
      "cell_type": "code",
      "source": [
        "for i in range(6):\n",
        "    logistic = getClassifier(i)\n",
        "    logistic.fit(X, y)# Make prediction\n",
        "    y_pred = logistic.predict(X_test)# Evaluate our model\n",
        "    print(\"Evaluation:\", solvers[i], \"solver\")\n",
        "    accuracy = accuracy_score(y_test, y_pred)\n",
        "    print(accuracy)\n",
        "    #print(classification_report(y_test,y_pred))"
      ],
      "metadata": {
        "colab": {
          "base_uri": "https://localhost:8080/"
        },
        "id": "TpuwFgC-lN3f",
        "outputId": "bbcb0e6b-bb6a-4a25-c880-0fdcb80b81ae"
      },
      "execution_count": null,
      "outputs": [
        {
          "output_type": "stream",
          "name": "stdout",
          "text": [
            "Evaluation: lbfgs solver\n",
            "0.8100558659217877\n",
            "Evaluation: liblinear solver\n",
            "0.8100558659217877\n",
            "Evaluation: newton-cg solver\n",
            "0.8100558659217877\n",
            "Evaluation: newton-cholesky solver\n",
            "0.8100558659217877\n",
            "Evaluation: sag solver\n",
            "0.8100558659217877\n",
            "Evaluation: saga solver\n",
            "0.7932960893854749\n"
          ]
        }
      ]
    },
    {
      "cell_type": "code",
      "source": [
        "#GridSearchCV\n",
        "#penalty is set to 'l2' only as 'liblinear' and 'saga' solver only supports 'l1' and accuracy is unchanged for them\n",
        "param_grid = {'C': [0.1,1, 10, 100], 'penalty': ['l2'],'solver': ['lbfgs', 'liblinear', 'newton-cg', 'newton-cholesky', 'sag', 'saga']}\n",
        "grid = GridSearchCV(LogisticRegression(max_iter=5000),param_grid,refit=True,verbose=2)\n",
        "grid.fit(X,y)\n",
        "print(grid.best_estimator_)"
      ],
      "metadata": {
        "colab": {
          "base_uri": "https://localhost:8080/"
        },
        "id": "c8yEbAm7vSMT",
        "outputId": "272dd1ba-ca69-4e24-83d7-31a333537a83"
      },
      "execution_count": null,
      "outputs": [
        {
          "output_type": "stream",
          "name": "stdout",
          "text": [
            "Fitting 5 folds for each of 24 candidates, totalling 120 fits\n",
            "[CV] END ....................C=0.1, penalty=l2, solver=lbfgs; total time=   0.0s\n",
            "[CV] END ....................C=0.1, penalty=l2, solver=lbfgs; total time=   0.0s\n",
            "[CV] END ....................C=0.1, penalty=l2, solver=lbfgs; total time=   0.0s\n",
            "[CV] END ....................C=0.1, penalty=l2, solver=lbfgs; total time=   0.0s\n",
            "[CV] END ....................C=0.1, penalty=l2, solver=lbfgs; total time=   0.0s\n",
            "[CV] END ................C=0.1, penalty=l2, solver=liblinear; total time=   0.0s\n",
            "[CV] END ................C=0.1, penalty=l2, solver=liblinear; total time=   0.0s\n",
            "[CV] END ................C=0.1, penalty=l2, solver=liblinear; total time=   0.0s\n",
            "[CV] END ................C=0.1, penalty=l2, solver=liblinear; total time=   0.0s\n",
            "[CV] END ................C=0.1, penalty=l2, solver=liblinear; total time=   0.0s\n",
            "[CV] END ................C=0.1, penalty=l2, solver=newton-cg; total time=   0.0s\n",
            "[CV] END ................C=0.1, penalty=l2, solver=newton-cg; total time=   0.0s\n",
            "[CV] END ................C=0.1, penalty=l2, solver=newton-cg; total time=   0.1s\n",
            "[CV] END ................C=0.1, penalty=l2, solver=newton-cg; total time=   0.1s\n",
            "[CV] END ................C=0.1, penalty=l2, solver=newton-cg; total time=   0.1s\n",
            "[CV] END ..........C=0.1, penalty=l2, solver=newton-cholesky; total time=   0.0s\n",
            "[CV] END ..........C=0.1, penalty=l2, solver=newton-cholesky; total time=   0.0s\n",
            "[CV] END ..........C=0.1, penalty=l2, solver=newton-cholesky; total time=   0.0s\n",
            "[CV] END ..........C=0.1, penalty=l2, solver=newton-cholesky; total time=   0.0s\n",
            "[CV] END ..........C=0.1, penalty=l2, solver=newton-cholesky; total time=   0.0s\n",
            "[CV] END ......................C=0.1, penalty=l2, solver=sag; total time=   0.4s\n",
            "[CV] END ......................C=0.1, penalty=l2, solver=sag; total time=   0.2s\n",
            "[CV] END ......................C=0.1, penalty=l2, solver=sag; total time=   0.2s\n",
            "[CV] END ......................C=0.1, penalty=l2, solver=sag; total time=   0.2s\n",
            "[CV] END ......................C=0.1, penalty=l2, solver=sag; total time=   0.2s\n",
            "[CV] END .....................C=0.1, penalty=l2, solver=saga; total time=   0.3s\n",
            "[CV] END .....................C=0.1, penalty=l2, solver=saga; total time=   0.3s\n",
            "[CV] END .....................C=0.1, penalty=l2, solver=saga; total time=   0.4s\n",
            "[CV] END .....................C=0.1, penalty=l2, solver=saga; total time=   0.3s\n",
            "[CV] END .....................C=0.1, penalty=l2, solver=saga; total time=   0.3s\n",
            "[CV] END ......................C=1, penalty=l2, solver=lbfgs; total time=   0.0s\n",
            "[CV] END ......................C=1, penalty=l2, solver=lbfgs; total time=   0.0s\n",
            "[CV] END ......................C=1, penalty=l2, solver=lbfgs; total time=   0.0s\n",
            "[CV] END ......................C=1, penalty=l2, solver=lbfgs; total time=   0.0s\n",
            "[CV] END ......................C=1, penalty=l2, solver=lbfgs; total time=   0.0s\n",
            "[CV] END ..................C=1, penalty=l2, solver=liblinear; total time=   0.0s\n",
            "[CV] END ..................C=1, penalty=l2, solver=liblinear; total time=   0.0s\n",
            "[CV] END ..................C=1, penalty=l2, solver=liblinear; total time=   0.0s\n",
            "[CV] END ..................C=1, penalty=l2, solver=liblinear; total time=   0.0s\n",
            "[CV] END ..................C=1, penalty=l2, solver=liblinear; total time=   0.0s\n",
            "[CV] END ..................C=1, penalty=l2, solver=newton-cg; total time=   0.0s\n",
            "[CV] END ..................C=1, penalty=l2, solver=newton-cg; total time=   0.0s\n",
            "[CV] END ..................C=1, penalty=l2, solver=newton-cg; total time=   0.0s\n",
            "[CV] END ..................C=1, penalty=l2, solver=newton-cg; total time=   0.0s\n",
            "[CV] END ..................C=1, penalty=l2, solver=newton-cg; total time=   0.0s\n",
            "[CV] END ............C=1, penalty=l2, solver=newton-cholesky; total time=   0.0s\n",
            "[CV] END ............C=1, penalty=l2, solver=newton-cholesky; total time=   0.0s\n",
            "[CV] END ............C=1, penalty=l2, solver=newton-cholesky; total time=   0.0s\n",
            "[CV] END ............C=1, penalty=l2, solver=newton-cholesky; total time=   0.0s\n",
            "[CV] END ............C=1, penalty=l2, solver=newton-cholesky; total time=   0.0s\n",
            "[CV] END ........................C=1, penalty=l2, solver=sag; total time=   0.3s\n",
            "[CV] END ........................C=1, penalty=l2, solver=sag; total time=   0.3s\n",
            "[CV] END ........................C=1, penalty=l2, solver=sag; total time=   0.3s\n",
            "[CV] END ........................C=1, penalty=l2, solver=sag; total time=   0.4s\n",
            "[CV] END ........................C=1, penalty=l2, solver=sag; total time=   0.5s\n",
            "[CV] END .......................C=1, penalty=l2, solver=saga; total time=   0.7s\n",
            "[CV] END .......................C=1, penalty=l2, solver=saga; total time=   0.6s\n",
            "[CV] END .......................C=1, penalty=l2, solver=saga; total time=   0.6s\n",
            "[CV] END .......................C=1, penalty=l2, solver=saga; total time=   0.7s\n",
            "[CV] END .......................C=1, penalty=l2, solver=saga; total time=   0.7s\n",
            "[CV] END .....................C=10, penalty=l2, solver=lbfgs; total time=   0.1s\n",
            "[CV] END .....................C=10, penalty=l2, solver=lbfgs; total time=   0.1s\n",
            "[CV] END .....................C=10, penalty=l2, solver=lbfgs; total time=   0.1s\n",
            "[CV] END .....................C=10, penalty=l2, solver=lbfgs; total time=   0.1s\n",
            "[CV] END .....................C=10, penalty=l2, solver=lbfgs; total time=   0.1s\n",
            "[CV] END .................C=10, penalty=l2, solver=liblinear; total time=   0.0s\n",
            "[CV] END .................C=10, penalty=l2, solver=liblinear; total time=   0.0s\n",
            "[CV] END .................C=10, penalty=l2, solver=liblinear; total time=   0.0s\n",
            "[CV] END .................C=10, penalty=l2, solver=liblinear; total time=   0.0s\n",
            "[CV] END .................C=10, penalty=l2, solver=liblinear; total time=   0.0s\n",
            "[CV] END .................C=10, penalty=l2, solver=newton-cg; total time=   0.0s\n",
            "[CV] END .................C=10, penalty=l2, solver=newton-cg; total time=   0.0s\n",
            "[CV] END .................C=10, penalty=l2, solver=newton-cg; total time=   0.0s\n",
            "[CV] END .................C=10, penalty=l2, solver=newton-cg; total time=   0.0s\n",
            "[CV] END .................C=10, penalty=l2, solver=newton-cg; total time=   0.0s\n",
            "[CV] END ...........C=10, penalty=l2, solver=newton-cholesky; total time=   0.0s\n",
            "[CV] END ...........C=10, penalty=l2, solver=newton-cholesky; total time=   0.0s\n",
            "[CV] END ...........C=10, penalty=l2, solver=newton-cholesky; total time=   0.0s\n",
            "[CV] END ...........C=10, penalty=l2, solver=newton-cholesky; total time=   0.0s\n",
            "[CV] END ...........C=10, penalty=l2, solver=newton-cholesky; total time=   0.0s\n",
            "[CV] END .......................C=10, penalty=l2, solver=sag; total time=   0.3s\n",
            "[CV] END .......................C=10, penalty=l2, solver=sag; total time=   0.3s\n",
            "[CV] END .......................C=10, penalty=l2, solver=sag; total time=   0.3s\n",
            "[CV] END .......................C=10, penalty=l2, solver=sag; total time=   0.3s\n",
            "[CV] END .......................C=10, penalty=l2, solver=sag; total time=   0.3s\n",
            "[CV] END ......................C=10, penalty=l2, solver=saga; total time=   0.4s\n",
            "[CV] END ......................C=10, penalty=l2, solver=saga; total time=   0.4s\n",
            "[CV] END ......................C=10, penalty=l2, solver=saga; total time=   0.5s\n",
            "[CV] END ......................C=10, penalty=l2, solver=saga; total time=   0.7s\n",
            "[CV] END ......................C=10, penalty=l2, solver=saga; total time=   0.7s\n",
            "[CV] END ....................C=100, penalty=l2, solver=lbfgs; total time=   0.0s\n",
            "[CV] END ....................C=100, penalty=l2, solver=lbfgs; total time=   0.0s\n",
            "[CV] END ....................C=100, penalty=l2, solver=lbfgs; total time=   0.0s\n",
            "[CV] END ....................C=100, penalty=l2, solver=lbfgs; total time=   0.0s\n",
            "[CV] END ....................C=100, penalty=l2, solver=lbfgs; total time=   0.0s\n",
            "[CV] END ................C=100, penalty=l2, solver=liblinear; total time=   0.0s\n",
            "[CV] END ................C=100, penalty=l2, solver=liblinear; total time=   0.0s\n",
            "[CV] END ................C=100, penalty=l2, solver=liblinear; total time=   0.0s\n",
            "[CV] END ................C=100, penalty=l2, solver=liblinear; total time=   0.0s\n",
            "[CV] END ................C=100, penalty=l2, solver=liblinear; total time=   0.0s\n",
            "[CV] END ................C=100, penalty=l2, solver=newton-cg; total time=   0.0s\n",
            "[CV] END ................C=100, penalty=l2, solver=newton-cg; total time=   0.0s\n",
            "[CV] END ................C=100, penalty=l2, solver=newton-cg; total time=   0.0s\n",
            "[CV] END ................C=100, penalty=l2, solver=newton-cg; total time=   0.0s\n",
            "[CV] END ................C=100, penalty=l2, solver=newton-cg; total time=   0.0s\n",
            "[CV] END ..........C=100, penalty=l2, solver=newton-cholesky; total time=   0.0s\n",
            "[CV] END ..........C=100, penalty=l2, solver=newton-cholesky; total time=   0.0s\n",
            "[CV] END ..........C=100, penalty=l2, solver=newton-cholesky; total time=   0.0s\n",
            "[CV] END ..........C=100, penalty=l2, solver=newton-cholesky; total time=   0.0s\n",
            "[CV] END ..........C=100, penalty=l2, solver=newton-cholesky; total time=   0.0s\n",
            "[CV] END ......................C=100, penalty=l2, solver=sag; total time=   0.5s\n",
            "[CV] END ......................C=100, penalty=l2, solver=sag; total time=   0.5s\n",
            "[CV] END ......................C=100, penalty=l2, solver=sag; total time=   0.5s\n",
            "[CV] END ......................C=100, penalty=l2, solver=sag; total time=   0.5s\n",
            "[CV] END ......................C=100, penalty=l2, solver=sag; total time=   0.5s\n",
            "[CV] END .....................C=100, penalty=l2, solver=saga; total time=   0.6s\n",
            "[CV] END .....................C=100, penalty=l2, solver=saga; total time=   0.4s\n",
            "[CV] END .....................C=100, penalty=l2, solver=saga; total time=   0.4s\n",
            "[CV] END .....................C=100, penalty=l2, solver=saga; total time=   0.4s\n",
            "[CV] END .....................C=100, penalty=l2, solver=saga; total time=   0.4s\n",
            "LogisticRegression(C=1, max_iter=5000, solver='liblinear')\n"
          ]
        }
      ]
    },
    {
      "cell_type": "code",
      "source": [
        "#Using the best estimator of GridSearchCV\n",
        "def logistic(X,y):\n",
        "    lgr=LogisticRegression(C=1, max_iter=5000, solver='liblinear', penalty='l2')\n",
        "    lgr.fit(X,y)\n",
        "    y_pred=lgr.predict(X_test)\n",
        "    return y_pred\n",
        "y_pred=logistic(X,y)\n",
        "y_pred"
      ],
      "metadata": {
        "colab": {
          "base_uri": "https://localhost:8080/"
        },
        "id": "E5v-CJ2dwByL",
        "outputId": "4e83769e-7850-4524-90a5-618e35023483"
      },
      "execution_count": null,
      "outputs": [
        {
          "output_type": "execute_result",
          "data": {
            "text/plain": [
              "array([0, 0, 0, 1, 1, 0, 0, 1, 1, 0, 1, 1, 0, 0, 0, 1, 0, 0, 0, 1, 1, 0,\n",
              "       0, 1, 1, 0, 0, 0, 0, 0, 0, 1, 1, 1, 1, 1, 1, 0, 1, 0, 0, 1, 0, 0,\n",
              "       1, 0, 1, 1, 0, 0, 1, 0, 0, 0, 0, 0, 0, 0, 1, 0, 1, 0, 1, 0, 1, 0,\n",
              "       0, 0, 1, 1, 0, 0, 0, 1, 0, 0, 1, 0, 0, 0, 0, 1, 0, 0, 1, 0, 0, 1,\n",
              "       0, 0, 1, 1, 0, 1, 1, 1, 0, 0, 1, 0, 1, 1, 0, 0, 1, 0, 0, 0, 1, 0,\n",
              "       0, 1, 0, 1, 1, 1, 0, 0, 1, 0, 1, 0, 1, 0, 0, 1, 0, 0, 0, 0, 0, 0,\n",
              "       1, 0, 1, 0, 0, 0, 0, 0, 0, 1, 0, 0, 0, 0, 0, 1, 1, 0, 0, 0, 0, 0,\n",
              "       0, 0, 0, 0, 0, 0, 1, 0, 1, 0, 1, 0, 0, 0, 0, 0, 0, 1, 0, 1, 0, 0,\n",
              "       1, 1, 0])"
            ]
          },
          "metadata": {},
          "execution_count": 45
        }
      ]
    },
    {
      "cell_type": "code",
      "source": [
        "accuracy = accuracy_score(y_test, y_pred)\n",
        "print(accuracy)"
      ],
      "metadata": {
        "colab": {
          "base_uri": "https://localhost:8080/"
        },
        "id": "mvUhbJJpwpLC",
        "outputId": "3eb0dcf5-5a24-449c-9fe2-452aa2e6bd70"
      },
      "execution_count": null,
      "outputs": [
        {
          "output_type": "stream",
          "name": "stdout",
          "text": [
            "0.8100558659217877\n"
          ]
        }
      ]
    }
  ]
}